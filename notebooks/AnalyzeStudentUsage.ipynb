{
 "cells": [
  {
   "cell_type": "markdown",
   "id": "ca57189f-d03c-4c00-a64f-3f5cc207f630",
   "metadata": {},
   "source": [
    "Analyze Student Usage\n",
    "===\n",
    "\n",
    "This notebook contains all the analysis in [\"Safe Generative Chats in a WhatsApp Intelligent Tutoring System\"](https://arxiv.org/abs/2407.04915).\n",
    "\n",
    "Analyzes:\n",
    " - Initial December 2023 test with students (on the Research & Assessment WhatsApp line)\n",
    " - Later use (on the Rori Public WhatsApp line)\n",
    "\n",
    "It is not intended to be executable (as it relies on proprietary code and data). Instead, it's a record of the analysis steps taken. Several cell outputs have been cleared, as they contain plain-text identifiers that could hypothetically be used to compromise student privacy (e.g. inferring usage behaviors)."
   ]
  },
  {
   "cell_type": "code",
   "execution_count": 1,
   "id": "e4424d27-56cb-491b-8581-54064165f9f8",
   "metadata": {},
   "outputs": [],
   "source": [
    "import json\n",
    "import os\n",
    "from collections import Counter\n",
    "from copy import copy, deepcopy\n",
    "from datetime import datetime, timezone\n",
    "from pathlib import Path\n",
    "\n",
    "import dotenv\n",
    "import matplotlib\n",
    "import matplotlib.pyplot as plt\n",
    "import numpy as np\n",
    "import pandas as pd\n",
    "import rori_orm\n",
    "import scipy.stats\n",
    "import statsmodels.stats.proportion\n",
    "from rori_orm.django.content import models"
   ]
  },
  {
   "cell_type": "code",
   "execution_count": 2,
   "id": "575e0d2b-c615-432d-b060-e385345ff3ee",
   "metadata": {},
   "outputs": [],
   "source": [
    "os.environ[\"DJANGO_ALLOW_ASYNC_UNSAFE\"] = \"true\""
   ]
  },
  {
   "cell_type": "code",
   "execution_count": 3,
   "id": "5599b5e5-935a-4f88-b85c-3b087ea70f8c",
   "metadata": {},
   "outputs": [],
   "source": [
    "matplotlib.rcParams[\"font.family\"] = \"serif\""
   ]
  },
  {
   "cell_type": "code",
   "execution_count": 4,
   "id": "a3f4d51e-1502-42ee-9e28-1f707cde0f98",
   "metadata": {},
   "outputs": [],
   "source": [
    "assert dotenv.load_dotenv(\"../.env\")"
   ]
  },
  {
   "cell_type": "code",
   "execution_count": 6,
   "id": "80e3e124-3f25-4ca7-9c29-de3550b1afdf",
   "metadata": {},
   "outputs": [],
   "source": [
    "FIGURE_WIDTH_IN = 3.3492707\n",
    "PAGE_WIDTH_IN = 7.031875"
   ]
  },
  {
   "cell_type": "code",
   "execution_count": 7,
   "id": "b5a6ea4f-f889-4742-b3cc-6a4b08b0e81c",
   "metadata": {},
   "outputs": [
    {
     "data": {
      "text/plain": [
       "'2023-12-13 19:15:00+00:00 - 2024-01-01 00:00:00+00:00'"
      ]
     },
     "execution_count": 7,
     "metadata": {},
     "output_type": "execute_result"
    }
   ],
   "source": [
    "# based on a slack message, this is when I was told that the students would be using it \"tomorrow\"\n",
    "experiment_start_datetime = datetime.fromisoformat(\"2023-12-13T11:15:00-08:00\").astimezone(timezone.utc)\n",
    "experiment_end_datetime = datetime.fromisoformat(\"2024-01-01\").replace(tzinfo=timezone.utc)\n",
    "f\"{experiment_start_datetime} - {experiment_end_datetime}\""
   ]
  },
  {
   "cell_type": "code",
   "execution_count": 8,
   "id": "f97a29dc-2cb8-4fe7-9e3b-df393eb38718",
   "metadata": {},
   "outputs": [
    {
     "data": {
      "text/plain": [
       "datetime.datetime(2023, 12, 13, 13, 23, 35, tzinfo=datetime.timezone.utc)"
      ]
     },
     "execution_count": 8,
     "metadata": {},
     "output_type": "execute_result"
    }
   ],
   "source": [
    "# based on a manual assessment of the data\n",
    "actual_start_datetime = datetime.fromisoformat(\"2023-12-13T13:23:35+00:00\")\n",
    "actual_start_datetime"
   ]
  },
  {
   "cell_type": "code",
   "execution_count": 9,
   "id": "44e2826d-f2b5-4315-994e-00dd35dde572",
   "metadata": {},
   "outputs": [],
   "source": [
    "DATA_DIR = Path(\"../data\")\n",
    "assert DATA_DIR.exists()"
   ]
  },
  {
   "cell_type": "code",
   "execution_count": 10,
   "id": "8897e337-42b9-46db-8622-7cc772392e0c",
   "metadata": {},
   "outputs": [],
   "source": [
    "FIGURES_DIR = DATA_DIR / \"figures\""
   ]
  },
  {
   "cell_type": "code",
   "execution_count": 11,
   "id": "f836002c-7ffc-4702-a35d-c36810755a33",
   "metadata": {},
   "outputs": [
    {
     "name": "stdout",
     "output_type": "stream",
     "text": [
      "236K\t../data/raw/gcp-dev.jsonl\n",
      " 23M\t../data/raw/supabase_staging.jsonl\n"
     ]
    }
   ],
   "source": [
    "!du -h {DATA_DIR}/raw/*.jsonl"
   ]
  },
  {
   "cell_type": "code",
   "execution_count": null,
   "id": "4f5e4cf2-6873-418d-9e5f-c0c0213e1435",
   "metadata": {},
   "outputs": [],
   "source": [
    "!head -n 2 {DATA_DIR}/raw/supabase_staging.jsonl"
   ]
  },
  {
   "cell_type": "code",
   "execution_count": 13,
   "id": "4001e5e8-0392-477b-8413-4709134a47fe",
   "metadata": {},
   "outputs": [
    {
     "data": {
      "text/plain": [
       "12767"
      ]
     },
     "execution_count": 13,
     "metadata": {},
     "output_type": "execute_result"
    }
   ],
   "source": [
    "db = []\n",
    "for line in open(DATA_DIR / \"raw\" / \"supabase_staging.jsonl\"):\n",
    "    db.append(json.loads(line))\n",
    "len(db)"
   ]
  },
  {
   "cell_type": "markdown",
   "id": "ba0cd178-fad2-49b5-b46d-adc0c3442991",
   "metadata": {},
   "source": [
    "Basic gist for the December 2023 data:\n",
    "\n",
    " - Need all users on the research line.\n",
    " - Need all activity sessions with those users.\n",
    " - Need to exclude a few researcher users\n",
    " - Get all messages, generativechatmessagemetadata, etc. associated with those activity sessions."
   ]
  },
  {
   "cell_type": "code",
   "execution_count": 14,
   "id": "8cf93473-07f7-462b-9dc6-6ed6ebe3b646",
   "metadata": {},
   "outputs": [
    {
     "data": {
      "text/plain": [
       "6"
      ]
     },
     "execution_count": 14,
     "metadata": {},
     "output_type": "execute_result"
    }
   ],
   "source": [
    "tables = {}\n",
    "for d in db:\n",
    "    model = d[\"model\"].split(\".\")[1]\n",
    "    if model not in tables:\n",
    "        tables[model] = []\n",
    "    fields = dict(d[\"fields\"])\n",
    "    fields[\"pk\"] = d[\"pk\"]\n",
    "    tables[model].append(fields)\n",
    "len(tables)"
   ]
  },
  {
   "cell_type": "code",
   "execution_count": 15,
   "id": "2526b61a-b926-4766-a8d1-dd80d1bac032",
   "metadata": {},
   "outputs": [
    {
     "data": {
      "text/plain": [
       "dict_keys(['user', 'activity', 'activitysession', 'message', 'generativechatmessagemetadata', 'messagefeedback'])"
      ]
     },
     "execution_count": 15,
     "metadata": {},
     "output_type": "execute_result"
    }
   ],
   "source": [
    "tables.keys()"
   ]
  },
  {
   "cell_type": "code",
   "execution_count": 16,
   "id": "63d33d86-440d-46e2-93b1-3c34ae19c127",
   "metadata": {},
   "outputs": [
    {
     "data": {
      "text/plain": [
       "dict_keys(['user', 'activity', 'activitysession', 'message', 'generativechatmessagemetadata', 'messagefeedback'])"
      ]
     },
     "execution_count": 16,
     "metadata": {},
     "output_type": "execute_result"
    }
   ],
   "source": [
    "dfs = {}\n",
    "for model, table in tables.items():\n",
    "    dfs[model] = pd.DataFrame(table)\n",
    "dfs.keys()"
   ]
  },
  {
   "cell_type": "code",
   "execution_count": 17,
   "id": "c92afe91-33f9-41dd-aaa2-36cf9a3dfc33",
   "metadata": {},
   "outputs": [],
   "source": [
    "df = dfs[\"user\"]\n",
    "for dict_column in [\n",
    "    \"properties\",\n",
    "]:\n",
    "    context_df = df[dict_column].apply(pd.Series)\n",
    "    context_df = context_df.rename(columns=lambda col_name: dict_column + \"_\" + col_name)\n",
    "    df = df.merge(context_df, left_index=True, right_index=True).drop(columns=dict_column)\n",
    "dfs[\"user\"] = df"
   ]
  },
  {
   "cell_type": "code",
   "execution_count": null,
   "id": "f7acc95a-db76-4ef0-97cc-dd1706c5b3c8",
   "metadata": {},
   "outputs": [],
   "source": [
    "dfs[\"user\"].sample(n=3)"
   ]
  },
  {
   "cell_type": "code",
   "execution_count": 19,
   "id": "9d1108f5-7b33-4837-ab07-0ab74115b35f",
   "metadata": {},
   "outputs": [
    {
     "data": {
      "text/plain": [
       "properties_turn_line_name\n",
       "Rori Research and Assessment    135\n",
       "Rori Demo                        37\n",
       "Name: count, dtype: int64"
      ]
     },
     "execution_count": 19,
     "metadata": {},
     "output_type": "execute_result"
    }
   ],
   "source": [
    "dfs[\"user\"].properties_turn_line_name.value_counts()"
   ]
  },
  {
   "cell_type": "code",
   "execution_count": null,
   "id": "5bb962a6-12be-4830-9ac6-892268045aec",
   "metadata": {},
   "outputs": [],
   "source": [
    "df = dfs[\"user\"]\n",
    "author_line_counts = df.properties_turn_author_id.value_counts()\n",
    "author_line_counts[author_line_counts > 1]"
   ]
  },
  {
   "cell_type": "code",
   "execution_count": 21,
   "id": "72f86873-ad02-4019-bf4f-4fcf1cbffbd8",
   "metadata": {},
   "outputs": [
    {
     "data": {
      "text/plain": [
       "5"
      ]
     },
     "execution_count": 21,
     "metadata": {},
     "output_type": "execute_result"
    }
   ],
   "source": [
    "assumed_researcher_author_ids = set(author_line_counts[author_line_counts > 1].index)\n",
    "len(assumed_researcher_author_ids)"
   ]
  },
  {
   "cell_type": "code",
   "execution_count": 22,
   "id": "bd0bbacd-3ebf-4f57-aa49-0449d6f670fa",
   "metadata": {},
   "outputs": [
    {
     "data": {
      "text/plain": [
       "10"
      ]
     },
     "execution_count": 22,
     "metadata": {},
     "output_type": "execute_result"
    }
   ],
   "source": [
    "assumed_researcher_author_ids.add(\"snipped\")\n",
    "assumed_researcher_author_ids.add(\"snipped\")\n",
    "assumed_researcher_author_ids.add(\"snipped\")\n",
    "# these were identified in the subset spreadsheet\n",
    "assumed_researcher_author_ids.update([\"snipped\", \"snipped\"])\n",
    "len(assumed_researcher_author_ids)"
   ]
  },
  {
   "cell_type": "code",
   "execution_count": 23,
   "id": "685425de-7771-482d-8f86-5a3f3eb9413d",
   "metadata": {},
   "outputs": [
    {
     "name": "stdout",
     "output_type": "stream",
     "text": [
      "133\n"
     ]
    },
    {
     "data": {
      "text/plain": [
       "124"
      ]
     },
     "execution_count": 23,
     "metadata": {},
     "output_type": "execute_result"
    }
   ],
   "source": [
    "student_users = set(df[df.properties_turn_line_name == \"Rori Research and Assessment\"].properties_turn_author_id)\n",
    "print(len(student_users))\n",
    "student_users -= assumed_researcher_author_ids\n",
    "len(student_users)"
   ]
  },
  {
   "cell_type": "code",
   "execution_count": 24,
   "id": "25c45317-3462-4277-8ca1-a437f623ed9c",
   "metadata": {},
   "outputs": [
    {
     "data": {
      "text/plain": [
       "124"
      ]
     },
     "execution_count": 24,
     "metadata": {},
     "output_type": "execute_result"
    }
   ],
   "source": [
    "user_df = df[\n",
    "    (df.properties_turn_line_name == \"Rori Research and Assessment\")\n",
    "    & (df.properties_turn_author_id.isin(student_users))\n",
    "]\n",
    "len(user_df)"
   ]
  },
  {
   "cell_type": "code",
   "execution_count": 25,
   "id": "c170ef31-8af7-4527-a834-28d311f1f13e",
   "metadata": {},
   "outputs": [
    {
     "data": {
      "text/plain": [
       "activity\n",
       "2    472\n",
       "1     15\n",
       "Name: count, dtype: int64"
      ]
     },
     "execution_count": 25,
     "metadata": {},
     "output_type": "execute_result"
    }
   ],
   "source": [
    "session_df = dfs[\"activitysession\"]\n",
    "session_df.activity.value_counts()"
   ]
  },
  {
   "cell_type": "code",
   "execution_count": 26,
   "id": "bc789eda-09b9-488a-bd02-32efc0f8d1a0",
   "metadata": {},
   "outputs": [],
   "source": [
    "df = session_df\n",
    "context_df = df[dict_column].apply(pd.Series)\n",
    "context_df = context_df.rename(columns=lambda col_name: dict_column + \"_\" + col_name)\n",
    "df = df.merge(context_df, left_index=True, right_index=True).drop(columns=dict_column)\n",
    "session_df = df"
   ]
  },
  {
   "cell_type": "code",
   "execution_count": 27,
   "id": "2b60e923-d27d-4579-92af-b5535d5e4274",
   "metadata": {},
   "outputs": [
    {
     "data": {
      "text/html": [
       "<div>\n",
       "<style scoped>\n",
       "    .dataframe tbody tr th:only-of-type {\n",
       "        vertical-align: middle;\n",
       "    }\n",
       "\n",
       "    .dataframe tbody tr th {\n",
       "        vertical-align: top;\n",
       "    }\n",
       "\n",
       "    .dataframe thead th {\n",
       "        text-align: right;\n",
       "    }\n",
       "</style>\n",
       "<table border=\"1\" class=\"dataframe\">\n",
       "  <thead>\n",
       "    <tr style=\"text-align: right;\">\n",
       "      <th></th>\n",
       "      <th>created_at</th>\n",
       "      <th>updated_at</th>\n",
       "      <th>name</th>\n",
       "      <th>type</th>\n",
       "      <th>properties</th>\n",
       "      <th>pk</th>\n",
       "    </tr>\n",
       "  </thead>\n",
       "  <tbody>\n",
       "    <tr>\n",
       "      <th>0</th>\n",
       "      <td>2023-11-20T00:09:25.685Z</td>\n",
       "      <td>2023-11-20T00:09:25.685Z</td>\n",
       "      <td>AskRori</td>\n",
       "      <td>generative_chat</td>\n",
       "      <td>{}</td>\n",
       "      <td>1</td>\n",
       "    </tr>\n",
       "    <tr>\n",
       "      <th>1</th>\n",
       "      <td>2023-11-20T00:09:25.686Z</td>\n",
       "      <td>2023-11-20T00:09:25.686Z</td>\n",
       "      <td>TopicalConversation</td>\n",
       "      <td>generative_chat</td>\n",
       "      <td>{}</td>\n",
       "      <td>2</td>\n",
       "    </tr>\n",
       "  </tbody>\n",
       "</table>\n",
       "</div>"
      ],
      "text/plain": [
       "                 created_at                updated_at                 name  \\\n",
       "0  2023-11-20T00:09:25.685Z  2023-11-20T00:09:25.685Z              AskRori   \n",
       "1  2023-11-20T00:09:25.686Z  2023-11-20T00:09:25.686Z  TopicalConversation   \n",
       "\n",
       "              type properties  pk  \n",
       "0  generative_chat         {}   1  \n",
       "1  generative_chat         {}   2  "
      ]
     },
     "execution_count": 27,
     "metadata": {},
     "output_type": "execute_result"
    }
   ],
   "source": [
    "dfs[\"activity\"]"
   ]
  },
  {
   "cell_type": "code",
   "execution_count": 28,
   "id": "478db283-8bb2-403b-814a-f38e636ab6df",
   "metadata": {},
   "outputs": [
    {
     "data": {
      "text/plain": [
       "287"
      ]
     },
     "execution_count": 28,
     "metadata": {},
     "output_type": "execute_result"
    }
   ],
   "source": [
    "session_df = pd.merge(session_df, user_df, how=\"inner\", left_on=\"user\", right_on=\"pk\", suffixes=(\"\", \"_user\"))\n",
    "# keep only the TopicalConversations\n",
    "session_df = session_df[session_df.activity == 2].reset_index(drop=True)\n",
    "len(session_df)"
   ]
  },
  {
   "cell_type": "code",
   "execution_count": null,
   "id": "bf7f34af-084c-4ce8-9e3c-9e5d99ce2596",
   "metadata": {},
   "outputs": [],
   "source": [
    "session_df.sample(n=3)"
   ]
  },
  {
   "cell_type": "code",
   "execution_count": 30,
   "id": "37096c99-bced-442f-8735-f233b96c343e",
   "metadata": {},
   "outputs": [
    {
     "data": {
      "text/plain": [
       "properties_topic\n",
       "growth-mindset    287\n",
       "Name: count, dtype: int64"
      ]
     },
     "execution_count": 30,
     "metadata": {},
     "output_type": "execute_result"
    }
   ],
   "source": [
    "session_df.properties_topic.value_counts(dropna=False)"
   ]
  },
  {
   "cell_type": "code",
   "execution_count": 31,
   "id": "210c68d6-5a99-447d-86f6-c07efc52b4d4",
   "metadata": {},
   "outputs": [
    {
     "data": {
      "text/plain": [
       "properties_api_version\n",
       "1.1.1+safety    162\n",
       "1.1.0+safety    125\n",
       "Name: count, dtype: int64"
      ]
     },
     "execution_count": 31,
     "metadata": {},
     "output_type": "execute_result"
    }
   ],
   "source": [
    "# TODO what if any change was there between these API versions?\n",
    "# (in hindsight: we probably deleted the safety branch, and that was a bad idea!!)\n",
    "session_df.properties_api_version.value_counts(dropna=False)"
   ]
  },
  {
   "cell_type": "markdown",
   "id": "16158453-9a0b-4748-ada4-7e027d13a7c0",
   "metadata": {},
   "source": [
    "#### Sidebar: do any messages we care about receive multiple feedbacks?\n",
    "\n",
    "Answer: no."
   ]
  },
  {
   "cell_type": "code",
   "execution_count": 32,
   "id": "fdcf736f-8665-4405-a6d6-b9ae14020115",
   "metadata": {},
   "outputs": [
    {
     "data": {
      "text/html": [
       "<div>\n",
       "<style scoped>\n",
       "    .dataframe tbody tr th:only-of-type {\n",
       "        vertical-align: middle;\n",
       "    }\n",
       "\n",
       "    .dataframe tbody tr th {\n",
       "        vertical-align: top;\n",
       "    }\n",
       "\n",
       "    .dataframe thead th {\n",
       "        text-align: right;\n",
       "    }\n",
       "</style>\n",
       "<table border=\"1\" class=\"dataframe\">\n",
       "  <thead>\n",
       "    <tr style=\"text-align: right;\">\n",
       "      <th></th>\n",
       "      <th>message</th>\n",
       "      <th>created_at</th>\n",
       "      <th>feedback</th>\n",
       "      <th>pk</th>\n",
       "    </tr>\n",
       "  </thead>\n",
       "  <tbody>\n",
       "    <tr>\n",
       "      <th>84</th>\n",
       "      <td>1128</td>\n",
       "      <td>2023-12-13T11:51:24.482Z</td>\n",
       "      <td>👍 ok</td>\n",
       "      <td>85</td>\n",
       "    </tr>\n",
       "  </tbody>\n",
       "</table>\n",
       "</div>"
      ],
      "text/plain": [
       "    message                created_at feedback  pk\n",
       "84     1128  2023-12-13T11:51:24.482Z     👍 ok  85"
      ]
     },
     "execution_count": 32,
     "metadata": {},
     "output_type": "execute_result"
    }
   ],
   "source": [
    "dfs[\"messagefeedback\"].sample(n=1)"
   ]
  },
  {
   "cell_type": "code",
   "execution_count": 33,
   "id": "1e084d62-c85c-443a-ba1c-5f1d941df880",
   "metadata": {},
   "outputs": [
    {
     "data": {
      "text/plain": [
       "message\n",
       "5354    2\n",
       "2       1\n",
       "5334    1\n",
       "5310    1\n",
       "5316    1\n",
       "       ..\n",
       "702     1\n",
       "706     1\n",
       "732     1\n",
       "824     1\n",
       "5948    1\n",
       "Name: count, Length: 207, dtype: int64"
      ]
     },
     "execution_count": 33,
     "metadata": {},
     "output_type": "execute_result"
    }
   ],
   "source": [
    "dfs[\"messagefeedback\"].message.value_counts()"
   ]
  },
  {
   "cell_type": "code",
   "execution_count": null,
   "id": "06aba880-d25f-47d3-862c-71108a882be1",
   "metadata": {},
   "outputs": [],
   "source": [
    "dfs[\"message\"][dfs[\"message\"].pk == 5354]"
   ]
  },
  {
   "cell_type": "code",
   "execution_count": null,
   "id": "47681d40-245e-4e62-ab60-d2a4250c0420",
   "metadata": {},
   "outputs": [],
   "source": [
    "session_df[session_df.pk == 410]"
   ]
  },
  {
   "cell_type": "markdown",
   "id": "9575934e-bd2d-49c9-b0e9-22c5f482685a",
   "metadata": {},
   "source": [
    "#### Sidebar: how many users provided feedback during red-teaming?"
   ]
  },
  {
   "cell_type": "code",
   "execution_count": 36,
   "id": "f1a93c12-0a30-428a-b811-a5795c2826d9",
   "metadata": {},
   "outputs": [
    {
     "data": {
      "text/plain": [
       "22"
      ]
     },
     "execution_count": 36,
     "metadata": {},
     "output_type": "execute_result"
    }
   ],
   "source": [
    "messages_with_feedback = set(dfs[\"messagefeedback\"].message)\n",
    "df = dfs[\"message\"]\n",
    "activity_sessions_with_feedback = set(df[df.pk.isin(messages_with_feedback)].activity_session)\n",
    "df = dfs[\"activitysession\"]\n",
    "users_with_demoline_feedback = set(df[df.pk.isin(activity_sessions_with_feedback)].user)\n",
    "len(users_with_demoline_feedback)"
   ]
  },
  {
   "cell_type": "code",
   "execution_count": 37,
   "id": "e3297baf-37a5-4e58-8261-39ed5a63db02",
   "metadata": {},
   "outputs": [
    {
     "data": {
      "text/plain": [
       "152"
      ]
     },
     "execution_count": 37,
     "metadata": {},
     "output_type": "execute_result"
    }
   ],
   "source": [
    "df = dfs[\"messagefeedback\"]\n",
    "nontest_messages_with_feedback = set(df[~df.feedback.str.contains(\"test\", case=False, regex=False)].message)\n",
    "len(nontest_messages_with_feedback)"
   ]
  },
  {
   "cell_type": "code",
   "execution_count": 38,
   "id": "8a46ca2a-46e9-4a9c-943f-42af717c1c8a",
   "metadata": {},
   "outputs": [
    {
     "name": "stdout",
     "output_type": "stream",
     "text": [
      "57\n"
     ]
    },
    {
     "data": {
      "text/plain": [
       "18"
      ]
     },
     "execution_count": 38,
     "metadata": {},
     "output_type": "execute_result"
    }
   ],
   "source": [
    "df = dfs[\"message\"]\n",
    "activity_sessions_with_feedback = set(df[df.pk.isin(nontest_messages_with_feedback)].activity_session)\n",
    "print(len(activity_sessions_with_feedback))\n",
    "df = dfs[\"activitysession\"]\n",
    "users_with_demoline_feedback = set(df[df.pk.isin(activity_sessions_with_feedback)].user)\n",
    "len(users_with_demoline_feedback)"
   ]
  },
  {
   "cell_type": "code",
   "execution_count": 39,
   "id": "c40c6c2d-47d1-42fa-92b1-d71099aab714",
   "metadata": {},
   "outputs": [
    {
     "data": {
      "text/plain": [
       "(113, 39)"
      ]
     },
     "execution_count": 39,
     "metadata": {},
     "output_type": "execute_result"
    }
   ],
   "source": [
    "df = dfs[\"messagefeedback\"]\n",
    "sdf = df[~df.feedback.str.contains(\"test\", case=False, regex=False)]\n",
    "positive_feedback = set(sdf[sdf.feedback.str.startswith(\"👍\")].message)\n",
    "negative_feedback = set(sdf[sdf.feedback.str.startswith(\"👎\")].message)\n",
    "len(positive_feedback), len(negative_feedback)"
   ]
  },
  {
   "cell_type": "code",
   "execution_count": null,
   "id": "4571bb8b-d331-4e3c-915c-c0a231ed9b8c",
   "metadata": {},
   "outputs": [],
   "source": []
  },
  {
   "cell_type": "markdown",
   "id": "2cfa5188-d230-4fe3-867e-5c5beb2f0dff",
   "metadata": {},
   "source": [
    "## Merge messages to sessions"
   ]
  },
  {
   "cell_type": "code",
   "execution_count": null,
   "id": "177b56d5-d6df-42a7-a291-ff595814c7d9",
   "metadata": {},
   "outputs": [],
   "source": [
    "df = pd.merge(\n",
    "    session_df, dfs[\"message\"], how=\"inner\", left_on=\"pk\", right_on=\"activity_session\", suffixes=(\"_session\", \"\")\n",
    ")\n",
    "df = pd.merge(\n",
    "    df, dfs[\"generativechatmessagemetadata\"], how=\"left\", left_on=\"pk\", right_on=\"message\", suffixes=(\"\", \"_md\")\n",
    ")\n",
    "df = pd.merge(df, dfs[\"messagefeedback\"], how=\"left\", left_on=\"pk\", right_on=\"message\", suffixes=(\"\", \"_feedback\"))\n",
    "df"
   ]
  },
  {
   "cell_type": "code",
   "execution_count": 41,
   "id": "0b38473d-89ec-4184-84ca-42f2fba537a4",
   "metadata": {},
   "outputs": [],
   "source": [
    "session_feedback_list = []\n",
    "session_feedback_score_list = []\n",
    "for feedback_message_list in df.properties_session_feedback:\n",
    "    session_feedback = None\n",
    "    session_feedback_score = np.nan\n",
    "    if type(feedback_message_list) != float:\n",
    "        feedback_message_dict = feedback_message_list[-1]\n",
    "        feedback_message = feedback_message_dict[\"feedback\"].strip()\n",
    "        if feedback_message == \"⭐\":\n",
    "            session_feedback_score = 1\n",
    "        elif feedback_message == \"⭐⭐\":\n",
    "            session_feedback_score = 2\n",
    "        elif feedback_message == \"⭐⭐⭐\":\n",
    "            session_feedback_score = 3\n",
    "        elif feedback_message == \"⭐⭐⭐⭐\":\n",
    "            session_feedback_score = 4\n",
    "        elif feedback_message == \"⭐⭐⭐⭐⭐\":\n",
    "            session_feedback_score = 5\n",
    "        session_feedback = feedback_message\n",
    "    session_feedback_list.append(session_feedback)\n",
    "    session_feedback_score_list.append(session_feedback_score)\n",
    "\n",
    "df[\"session_feedback\"] = session_feedback_list\n",
    "df[\"session_feedback_score\"] = session_feedback_score_list"
   ]
  },
  {
   "cell_type": "code",
   "execution_count": 42,
   "id": "90027ce7-5872-443f-8ec5-ae45421746b0",
   "metadata": {},
   "outputs": [],
   "source": [
    "df[\"created_at_dt\"] = df.created_at.map(lambda d: datetime.fromisoformat(d[:-1]).replace(tzinfo=timezone.utc))\n",
    "df[\"created_at_session_dt\"] = df.created_at_session.map(\n",
    "    lambda d: datetime.fromisoformat(d[:-1]).replace(tzinfo=timezone.utc)\n",
    ")"
   ]
  },
  {
   "cell_type": "code",
   "execution_count": 43,
   "id": "b22e8b9e-c8b2-4c4b-aba5-46fe662053c5",
   "metadata": {},
   "outputs": [
    {
     "data": {
      "text/plain": [
       "in_experiment_period\n",
       "True     242\n",
       "False     45\n",
       "Name: count, dtype: int64"
      ]
     },
     "execution_count": 43,
     "metadata": {},
     "output_type": "execute_result"
    }
   ],
   "source": [
    "df[\"in_experiment_period\"] = (df.created_at_session_dt >= experiment_start_datetime) & (\n",
    "    df.created_at_session_dt <= experiment_end_datetime\n",
    ")\n",
    "df.groupby(\"activity_session\").in_experiment_period.first().value_counts()"
   ]
  },
  {
   "cell_type": "code",
   "execution_count": 44,
   "id": "0a62ed79-cac8-478b-be5a-80431438e07f",
   "metadata": {},
   "outputs": [],
   "source": [
    "OPENAI_MODERATION_CATEGORIES = [\n",
    "    \"self-harm/intent\",\n",
    "    \"self-harm/instructions\",\n",
    "    \"self-harm\",\n",
    "    \"sexual/minors\",\n",
    "    \"sexual\",\n",
    "    \"violence\",\n",
    "    \"violence/graphic\",\n",
    "    \"harassment\",\n",
    "    \"harassment/threatening\",\n",
    "    \"hate\",\n",
    "    \"hate/threatening\",\n",
    "]\n",
    "scores = {category: [] for category in OPENAI_MODERATION_CATEGORIES}\n",
    "for context in df.context:\n",
    "    had_scores = False\n",
    "    if type(context) == dict and \"moderation_data\" in context:\n",
    "        moderation_data = context[\"moderation_data\"]\n",
    "        if \"openai_moderation_result\" in moderation_data:\n",
    "            moderation_result = moderation_data[\"openai_moderation_result\"]\n",
    "            assert \"category_scores\" in moderation_result\n",
    "            category_scores = moderation_result[\"category_scores\"]\n",
    "            for category in OPENAI_MODERATION_CATEGORIES:\n",
    "                scores[category].append(category_scores[category])\n",
    "            had_scores = True\n",
    "    if not had_scores:\n",
    "        for category in OPENAI_MODERATION_CATEGORIES:\n",
    "            scores[category].append(np.nan)\n",
    "\n",
    "# save scores to the dataframe\n",
    "df = df.assign(**scores)"
   ]
  },
  {
   "cell_type": "code",
   "execution_count": 45,
   "id": "9e6bbc8c-0aa1-4cd4-af45-44ed493bba14",
   "metadata": {},
   "outputs": [
    {
     "data": {
      "image/png": "[encoded data removed]",
      "text/plain": [
       "<Figure size 520x200 with 1 Axes>"
      ]
     },
     "metadata": {},
     "output_type": "display_data"
    }
   ],
   "source": [
    "df[\"max_moderation_score\"] = df[OPENAI_MODERATION_CATEGORIES].max(axis=1)\n",
    "fig, ax = plt.subplots(1, 1, figsize=(5.2, 2))\n",
    "\n",
    "ax.hist(df.max_moderation_score, bins=np.arange(0, 1, 0.01), log=True)\n",
    "ax.set_title(\"Distribution of highest OpenAI moderation score\")\n",
    "\n",
    "plt.show()"
   ]
  },
  {
   "cell_type": "code",
   "execution_count": 46,
   "id": "9c9487e8-7e5d-49ec-bd78-4e36f79c4334",
   "metadata": {},
   "outputs": [
    {
     "data": {
      "text/plain": [
       "Index(['activity', 'user', 'previous_activity_session', 'created_at_session',\n",
       "       'updated_at', 'status', 'pk_session', 'properties_topic',\n",
       "       'properties_feedback_count', 'properties_inbound_message_count',\n",
       "       'properties_active_session_on_previous_topic', 'properties_api_version',\n",
       "       'properties_session_feedback', 'created_at_user', 'updated_at_user',\n",
       "       'current_activity_session', 'pk_user', 'properties_turn_line_id',\n",
       "       'properties_turn_author_id', 'properties_turn_line_name',\n",
       "       'properties_turn_line_number', 'activity_session', 'previous_message',\n",
       "       'created_at', 'text', 'direction', 'bq_message_id', 'pk', 'message',\n",
       "       'created_at_md', 'should_exclude', 'context', 'pk_md',\n",
       "       'message_feedback', 'created_at_feedback', 'feedback', 'pk_feedback',\n",
       "       'session_feedback', 'session_feedback_score', 'created_at_dt',\n",
       "       'created_at_session_dt', 'in_experiment_period', 'self-harm/intent',\n",
       "       'self-harm/instructions', 'self-harm', 'sexual/minors', 'sexual',\n",
       "       'violence', 'violence/graphic', 'harassment', 'harassment/threatening',\n",
       "       'hate', 'hate/threatening', 'max_moderation_score'],\n",
       "      dtype='object')"
      ]
     },
     "execution_count": 46,
     "metadata": {},
     "output_type": "execute_result"
    }
   ],
   "source": [
    "df.columns"
   ]
  },
  {
   "cell_type": "code",
   "execution_count": null,
   "id": "41384132-2601-420e-b856-36641ac8e6da",
   "metadata": {},
   "outputs": [],
   "source": [
    "df.iloc[4].T"
   ]
  },
  {
   "cell_type": "code",
   "execution_count": 48,
   "id": "0e912745-56c5-4bb2-8401-88a40895a62b",
   "metadata": {},
   "outputs": [
    {
     "data": {
      "text/plain": [
       "feedback\n",
       "False    4000\n",
       "Name: count, dtype: int64"
      ]
     },
     "execution_count": 48,
     "metadata": {},
     "output_type": "execute_result"
    }
   ],
   "source": [
    "# no message-level feedback, which is expected!\n",
    "df.feedback.notna().value_counts()"
   ]
  },
  {
   "cell_type": "code",
   "execution_count": 49,
   "id": "ff47c18d-7739-4900-b6a1-7a91e39d8f54",
   "metadata": {},
   "outputs": [
    {
     "data": {
      "text/plain": [
       "should_exclude\n",
       "False    4000\n",
       "Name: count, dtype: int64"
      ]
     },
     "execution_count": 49,
     "metadata": {},
     "output_type": "execute_result"
    }
   ],
   "source": [
    "df.should_exclude.value_counts()"
   ]
  },
  {
   "cell_type": "code",
   "execution_count": 50,
   "id": "12819705-cd4e-4ed2-beb9-4097449d85e8",
   "metadata": {},
   "outputs": [
    {
     "data": {
      "image/png": "[encoded data removed]",
      "text/plain": [
       "<Figure size 520x200 with 1 Axes>"
      ]
     },
     "metadata": {},
     "output_type": "display_data"
    }
   ],
   "source": [
    "# distribution of conversation count\n",
    "conversations = df.groupby(\"user\").activity_session.nunique()\n",
    "fig, ax = plt.subplots(1, 1, figsize=(5.2, 2))\n",
    "\n",
    "ax.hist(conversations, bins=np.arange(1, conversations.max() + 2))\n",
    "ax.set_xlabel(\"Conversation count\")\n",
    "ax.set_ylabel(\"# students\")\n",
    "\n",
    "plt.show()"
   ]
  },
  {
   "cell_type": "code",
   "execution_count": 51,
   "id": "44ea9c8a-4ae8-405e-aaef-85284bb5494c",
   "metadata": {},
   "outputs": [
    {
     "data": {
      "image/png": "[encoded data removed]",
      "text/plain": [
       "<Figure size 520x200 with 1 Axes>"
      ]
     },
     "metadata": {},
     "output_type": "display_data"
    }
   ],
   "source": [
    "# distribution of conversation length\n",
    "conversation_lengths = df.groupby(\"activity_session\").message.nunique()\n",
    "fig, ax = plt.subplots(1, 1, figsize=(5.2, 2))\n",
    "\n",
    "ax.hist(conversation_lengths, bins=np.arange(1, conversation_lengths.max() + 2))\n",
    "ax.set_xlabel(\"Conversation length (# messages)\")\n",
    "ax.set_ylabel(\"# conversations\")\n",
    "\n",
    "plt.show()"
   ]
  },
  {
   "cell_type": "markdown",
   "id": "7a8e107f-0c02-4988-96b7-705e61e849a3",
   "metadata": {},
   "source": [
    "### Investigating session-level feedback"
   ]
  },
  {
   "cell_type": "code",
   "execution_count": 52,
   "id": "cc68b236-5949-4a1a-a057-3ea5c550f2f7",
   "metadata": {},
   "outputs": [
    {
     "data": {
      "text/plain": [
       "properties_session_feedback\n",
       "True     165\n",
       "False    122\n",
       "Name: count, dtype: int64"
      ]
     },
     "execution_count": 52,
     "metadata": {},
     "output_type": "execute_result"
    }
   ],
   "source": [
    "df.groupby(\"activity_session\").properties_session_feedback.apply(lambda f: f.notna().any()).value_counts()"
   ]
  },
  {
   "cell_type": "code",
   "execution_count": null,
   "id": "5890c17b-8450-49e1-bc20-0c43a5135a8a",
   "metadata": {},
   "outputs": [],
   "source": [
    "feedback = []\n",
    "for session, group in df.groupby(\"activity_session\"):\n",
    "    if type(group.iloc[0].properties_session_feedback) == float:\n",
    "        # janky way of filtering out NA values\n",
    "        continue\n",
    "    assert group.iloc[0].properties_session_feedback == group.iloc[1].properties_session_feedback\n",
    "    feedback_list = group.iloc[0].properties_session_feedback\n",
    "    # only 2 cases with multiple feedback, and the message doesn't change in either case\n",
    "    feedback_dict = feedback_list[-1]\n",
    "    feedback.append(feedback_dict)\n",
    "feedback[0]"
   ]
  },
  {
   "cell_type": "code",
   "execution_count": 54,
   "id": "d9e49a9e-5ce7-45c6-8db8-2514bf8d494a",
   "metadata": {},
   "outputs": [],
   "source": [
    "# this code was used above to create the column\n",
    "for f in feedback:\n",
    "    feedback_message = f[\"feedback\"].strip()\n",
    "    score = None\n",
    "    if feedback_message == \"⭐\":\n",
    "        score = 1\n",
    "    elif feedback_message == \"⭐⭐\":\n",
    "        score = 2\n",
    "    elif feedback_message == \"⭐⭐⭐\":\n",
    "        score = 3\n",
    "    elif feedback_message == \"⭐⭐⭐⭐\":\n",
    "        score = 4\n",
    "    elif feedback_message == \"⭐⭐⭐⭐⭐\":\n",
    "        score = 5\n",
    "    if score is not None:\n",
    "        print(score)\n",
    "    break"
   ]
  },
  {
   "cell_type": "code",
   "execution_count": 55,
   "id": "e31ab34d-eff5-49d4-8c6b-730f0a0ccd86",
   "metadata": {},
   "outputs": [
    {
     "data": {
      "text/plain": [
       "session_feedback_score\n",
       "NaN    145\n",
       "5.0    126\n",
       "1.0      5\n",
       "3.0      5\n",
       "4.0      4\n",
       "2.0      2\n",
       "Name: count, dtype: int64"
      ]
     },
     "execution_count": 55,
     "metadata": {},
     "output_type": "execute_result"
    }
   ],
   "source": [
    "df.groupby(\"activity_session\").session_feedback_score.first().value_counts(dropna=False)"
   ]
  },
  {
   "cell_type": "code",
   "execution_count": null,
   "id": "4cdc6575-cffb-4aa5-8a8f-21c2c4189d32",
   "metadata": {},
   "outputs": [],
   "source": []
  },
  {
   "cell_type": "code",
   "execution_count": 56,
   "id": "e7a436eb-00d1-4895-bd63-1da888bbc58d",
   "metadata": {},
   "outputs": [
    {
     "data": {
      "image/png": "[encoded data removed]",
      "text/plain": [
       "<Figure size 520x200 with 1 Axes>"
      ]
     },
     "metadata": {},
     "output_type": "display_data"
    }
   ],
   "source": [
    "# creation date\n",
    "fig, ax = plt.subplots(1, 1, figsize=(5.2, 2))\n",
    "end_datetime = datetime(2024, 1, 1, tzinfo=timezone.utc)\n",
    "start_datetime = datetime(2023, 12, 14, 12, 0, 0, tzinfo=timezone.utc)\n",
    "sdf = df[(df.created_at_dt >= start_datetime) & (df.created_at_dt <= end_datetime)]\n",
    "xs = sdf.groupby(\"activity_session\").created_at_dt.min()\n",
    "ax.hist(xs, log=False, bins=1000)\n",
    "ax.set_xlabel(\"Message time\")\n",
    "ax.set_ylabel(\"# conversations\")\n",
    "\n",
    "plt.show()"
   ]
  },
  {
   "cell_type": "code",
   "execution_count": null,
   "id": "9331d906-45f6-48d0-b012-d9d0036dde32",
   "metadata": {},
   "outputs": [],
   "source": []
  },
  {
   "cell_type": "code",
   "execution_count": null,
   "id": "66e53a53-c4db-4bae-932b-4043c07ab7f6",
   "metadata": {},
   "outputs": [],
   "source": [
    "# sorted_df[[col for col in sorted_df.columns if col not in [\"context\", \"properties_session_feedback\"]]].to_csv(DATA_DIR / \"derived\" / \"studentTest_dec2023.csv\", index=False)\n",
    "sorted_df = df.sort_values([\"created_at_session\", \"message\"]).reset_index(drop=True)\n",
    "subset_columns = [\n",
    "    \"activity_session\",\n",
    "    \"created_at_session\",\n",
    "    \"user\",\n",
    "    \"properties_turn_author_id\",\n",
    "    \"created_at_user\",\n",
    "    \"properties_inbound_message_count\",\n",
    "    \"properties_api_version\",\n",
    "    \"session_feedback\",\n",
    "    \"session_feedback_score\",\n",
    "    \"created_at\",\n",
    "    \"previous_message\",\n",
    "    \"message\",\n",
    "    \"text\",\n",
    "    \"direction\",\n",
    "    \"should_exclude\",\n",
    "    \"max_moderation_score\",\n",
    "] + OPENAI_MODERATION_CATEGORIES\n",
    "sorted_df[subset_columns]"
   ]
  },
  {
   "cell_type": "code",
   "execution_count": 58,
   "id": "667bbcb6-e930-434e-8f9d-e64338b86647",
   "metadata": {},
   "outputs": [],
   "source": [
    "# cell used to create the files used for manual data inspection\n",
    "# sorted_df.to_csv(DATA_DIR / \"derived\" / \"studentTest_dec2023_full.csv\", index=False)\n",
    "# sorted_df[subset_columns].to_csv(DATA_DIR / \"derived\" / \"studentTest_dec2023_subset.csv\", index=False)"
   ]
  },
  {
   "cell_type": "code",
   "execution_count": null,
   "id": "7e0c630b-3d69-4b06-b0bb-6946b797d8dc",
   "metadata": {},
   "outputs": [],
   "source": [
    "df.groupby(\"activity_session\").properties_turn_author_id.first().value_counts().head(10)"
   ]
  },
  {
   "cell_type": "markdown",
   "id": "ef8887c6-2219-42a5-9904-2aded4c82938",
   "metadata": {},
   "source": [
    "## Figures for the target period"
   ]
  },
  {
   "cell_type": "code",
   "execution_count": 60,
   "id": "744b18b2-d804-4137-954d-bbaadc43bbdc",
   "metadata": {},
   "outputs": [
    {
     "data": {
      "text/plain": [
       "3722"
      ]
     },
     "execution_count": 60,
     "metadata": {},
     "output_type": "execute_result"
    }
   ],
   "source": [
    "sdf = df[df.created_at_dt >= actual_start_datetime]\n",
    "len(sdf)"
   ]
  },
  {
   "cell_type": "code",
   "execution_count": 61,
   "id": "59f28727-dbf0-454a-b1ab-cf00486ed42e",
   "metadata": {},
   "outputs": [
    {
     "data": {
      "text/plain": [
       "252"
      ]
     },
     "execution_count": 61,
     "metadata": {},
     "output_type": "execute_result"
    }
   ],
   "source": [
    "# 252 conversations\n",
    "sdf[(sdf.direction == \"I\") & (sdf.text != \"\")].groupby(\"activity_session\").ngroups"
   ]
  },
  {
   "cell_type": "code",
   "execution_count": 62,
   "id": "a939dd12-8284-4155-9916-3377b761dfd9",
   "metadata": {},
   "outputs": [
    {
     "data": {
      "text/plain": [
       "session_feedback_score\n",
       "5.0    126\n",
       "NaN    125\n",
       "1.0      5\n",
       "3.0      5\n",
       "4.0      4\n",
       "2.0      2\n",
       "Name: count, dtype: int64"
      ]
     },
     "execution_count": 62,
     "metadata": {},
     "output_type": "execute_result"
    }
   ],
   "source": [
    "sdf.groupby(\"activity_session\").session_feedback_score.first().value_counts(dropna=False)"
   ]
  },
  {
   "cell_type": "code",
   "execution_count": 63,
   "id": "b708d139-7f04-4a1d-9991-3939fb2ee7f8",
   "metadata": {},
   "outputs": [
    {
     "data": {
      "text/plain": [
       "message\n",
       "8     138\n",
       "2      21\n",
       "1      17\n",
       "3      15\n",
       "4      14\n",
       "6      14\n",
       "7      13\n",
       "9      11\n",
       "5       8\n",
       "10      1\n",
       "Name: count, dtype: int64"
      ]
     },
     "execution_count": 63,
     "metadata": {},
     "output_type": "execute_result"
    }
   ],
   "source": [
    "inbound_message_counts = sdf[(sdf.direction == \"I\") & (sdf.text != \"\")].groupby(\"activity_session\").message.nunique()\n",
    "inbound_message_counts.value_counts()"
   ]
  },
  {
   "cell_type": "code",
   "execution_count": 64,
   "id": "763dd0cf-bae6-48a3-be1b-80fcf1f3df84",
   "metadata": {},
   "outputs": [
    {
     "data": {
      "text/plain": [
       "properties_inbound_message_count\n",
       "9.0    155\n",
       "3.0     19\n",
       "5.0     17\n",
       "2.0     17\n",
       "4.0     16\n",
       "1.0     15\n",
       "7.0     13\n",
       "6.0     10\n",
       "8.0      5\n",
       "Name: count, dtype: int64"
      ]
     },
     "execution_count": 64,
     "metadata": {},
     "output_type": "execute_result"
    }
   ],
   "source": [
    "sdf.groupby(\"activity_session\").properties_inbound_message_count.first().value_counts()"
   ]
  },
  {
   "cell_type": "code",
   "execution_count": 65,
   "id": "09610f13-507e-4d30-9db2-2944ab940b35",
   "metadata": {},
   "outputs": [
    {
     "data": {
      "text/plain": [
       "activity_session\n",
       "205    10\n",
       "Name: message, dtype: int64"
      ]
     },
     "execution_count": 65,
     "metadata": {},
     "output_type": "execute_result"
    }
   ],
   "source": [
    "# manual inspection of session 205 reveals it is a mistaken continuation of a previous conversation\n",
    "# somehow, a bad interleaving associated an inbound message with a new activity session, BEFORE the initial message was sent\n",
    "inbound_message_counts[inbound_message_counts == 10]"
   ]
  },
  {
   "cell_type": "code",
   "execution_count": null,
   "id": "350e5043-ad0b-4710-aaf7-bd9d7f20d8dc",
   "metadata": {},
   "outputs": [],
   "source": []
  },
  {
   "cell_type": "code",
   "execution_count": null,
   "id": "e1e25532-806e-4876-9b8a-0b98f7028d72",
   "metadata": {},
   "outputs": [],
   "source": [
    "sdf.sort_values(by=\"max_moderation_score\", ascending=False).head()[[\"text\", \"direction\", \"max_moderation_score\"]]"
   ]
  },
  {
   "cell_type": "code",
   "execution_count": 67,
   "id": "76c4f788-91db-4202-b3fe-eb1fe09183b8",
   "metadata": {},
   "outputs": [],
   "source": [
    "# correct the message counts associated with session 205\n",
    "inbound_message_counts[205] -= 1\n",
    "inbound_message_counts[186] += 1"
   ]
  },
  {
   "cell_type": "code",
   "execution_count": 68,
   "id": "9e2b7841-bc74-4d45-b5d3-ba372a07bb13",
   "metadata": {},
   "outputs": [
    {
     "name": "stdout",
     "output_type": "stream",
     "text": [
      "138.0\n"
     ]
    },
    {
     "data": {
      "image/png": "[encoded data removed]",
      "text/plain": [
       "<Figure size 334.927x80 with 1 Axes>"
      ]
     },
     "metadata": {},
     "output_type": "display_data"
    }
   ],
   "source": [
    "# session-level: distribution of conversation length\n",
    "fig, ax = plt.subplots(1, 1, figsize=(FIGURE_WIDTH_IN, 0.8))\n",
    "\n",
    "max_value = 14\n",
    "bins = np.arange(1, max_value)\n",
    "ns, bins, patches = ax.hist(inbound_message_counts, bins=bins, align=\"left\", color=\"black\")\n",
    "xs = np.arange(1, max_value - 1)\n",
    "ax.set_xticks(xs, labels=[f\"{x}\" if x != max_value - 2 else f\"{x}+\" for x in xs])\n",
    "ax.set_yticks([50, 100, 150])\n",
    "for x, n in zip(bins, ns):\n",
    "    if n > 100:\n",
    "        print(n)\n",
    "    else:\n",
    "        ax.text(x, n + 9, f\"{n:.0f}\", ha=\"center\")\n",
    "# ax.set_xlabel(\"Conversation length (student messages)\")\n",
    "# ax.set_ylabel(\"# convos\")\n",
    "\n",
    "fig.tight_layout(pad=0)\n",
    "fig.savefig(FIGURES_DIR / \"dec2023_conversation_length.pdf\", dpi=150, pad_inches=0)\n",
    "plt.show()"
   ]
  },
  {
   "cell_type": "code",
   "execution_count": 69,
   "id": "08427b4a-e4c8-484b-bbfd-4ffd34b4fb2e",
   "metadata": {},
   "outputs": [
    {
     "data": {
      "text/plain": [
       "(0.5476190476190477, 0.5952380952380952)"
      ]
     },
     "execution_count": 69,
     "metadata": {},
     "output_type": "execute_result"
    }
   ],
   "source": [
    "138 / 252, (138 + 12) / 252"
   ]
  },
  {
   "cell_type": "code",
   "execution_count": 70,
   "id": "60fb0b9a-6b6e-4600-999e-6dc54ef37160",
   "metadata": {},
   "outputs": [
    {
     "data": {
      "text/plain": [
       "session_feedback_score\n",
       "5.0    126\n",
       "NaN    125\n",
       "1.0      5\n",
       "3.0      5\n",
       "4.0      4\n",
       "2.0      2\n",
       "Name: count, dtype: int64"
      ]
     },
     "execution_count": 70,
     "metadata": {},
     "output_type": "execute_result"
    }
   ],
   "source": [
    "sdf.groupby(\"activity_session\").session_feedback_score.first().value_counts(dropna=False)"
   ]
  },
  {
   "cell_type": "code",
   "execution_count": 71,
   "id": "cccc3603-b8f0-4750-9b0c-95b464d03398",
   "metadata": {},
   "outputs": [
    {
     "name": "stdout",
     "output_type": "stream",
     "text": [
      "126\n"
     ]
    },
    {
     "data": {
      "text/plain": [
       "text\n",
       "1    95\n",
       "2    21\n",
       "3     5\n",
       "4     4\n",
       "8     1\n",
       "Name: count, dtype: int64"
      ]
     },
     "execution_count": 71,
     "metadata": {},
     "output_type": "execute_result"
    }
   ],
   "source": [
    "ssdf = sdf[(sdf.direction == \"I\") & (sdf.text != \"\")]\n",
    "low_df = ssdf[ssdf.session_feedback_score < 5]\n",
    "print(len(low_df))\n",
    "low_df.text.map(str.split).map(len).value_counts()"
   ]
  },
  {
   "cell_type": "code",
   "execution_count": 72,
   "id": "63fbe384-3ee2-4562-8522-d41ee859192a",
   "metadata": {},
   "outputs": [
    {
     "name": "stdout",
     "output_type": "stream",
     "text": [
      "992\n"
     ]
    },
    {
     "data": {
      "text/plain": [
       "text\n",
       "1     649\n",
       "3     117\n",
       "2     103\n",
       "4      48\n",
       "5      21\n",
       "6      18\n",
       "9       9\n",
       "7       8\n",
       "10      5\n",
       "12      4\n",
       "8       3\n",
       "11      3\n",
       "16      2\n",
       "13      1\n",
       "23      1\n",
       "Name: count, dtype: int64"
      ]
     },
     "execution_count": 72,
     "metadata": {},
     "output_type": "execute_result"
    }
   ],
   "source": [
    "high_df = ssdf[ssdf.session_feedback_score == 5]\n",
    "print(len(high_df))\n",
    "high_df.text.map(str.split).map(len).value_counts()"
   ]
  },
  {
   "cell_type": "code",
   "execution_count": 73,
   "id": "d6204c44-5107-47b1-aca7-f9e71a25fbfd",
   "metadata": {},
   "outputs": [
    {
     "data": {
      "text/plain": [
       "Chi2ContingencyResult(statistic=0.8212951922328829, pvalue=0.36480175405434556, dof=1, expected_freq=array([[ 88.30504834, 655.69495166],\n",
       "       [132.69495166, 985.30504834]]))"
      ]
     },
     "execution_count": 73,
     "metadata": {},
     "output_type": "execute_result"
    }
   ],
   "source": [
    "low_messages = 126\n",
    "low_single_word = 95\n",
    "five_messages = 992\n",
    "five_single_word = 649\n",
    "\n",
    "cont = [[low_single_word, five_single_word], [low_messages, five_messages]]\n",
    "scipy.stats.contingency.chi2_contingency(cont)\n",
    "# note: this is precisely the same result as R's prop.test or chisq.test, as expected"
   ]
  },
  {
   "cell_type": "code",
   "execution_count": 74,
   "id": "647d485f-f383-45fe-a0fb-0af22268fa65",
   "metadata": {},
   "outputs": [
    {
     "name": "stdout",
     "output_type": "stream",
     "text": [
      "0.753968253968254\n",
      "0.6542338709677419\n"
     ]
    }
   ],
   "source": [
    "print(low_single_word / low_messages)\n",
    "print(five_single_word / five_messages)"
   ]
  },
  {
   "cell_type": "code",
   "execution_count": 75,
   "id": "da7d0700-9c48-491b-80a9-233dcec37cbc",
   "metadata": {},
   "outputs": [
    {
     "data": {
      "text/plain": [
       "SignificanceResult(statistic=1.1524445422750507, pvalue=0.34198379732938966)"
      ]
     },
     "execution_count": 75,
     "metadata": {},
     "output_type": "execute_result"
    }
   ],
   "source": [
    "scipy.stats.fisher_exact(cont, alternative=\"two-sided\")"
   ]
  },
  {
   "cell_type": "code",
   "execution_count": 77,
   "id": "66a76cc4-43aa-40f6-b127-ad42ff3a5f35",
   "metadata": {},
   "outputs": [
    {
     "data": {
      "text/plain": [
       "(2.235036638473821, 0.02541494349411181)"
      ]
     },
     "execution_count": 77,
     "metadata": {},
     "output_type": "execute_result"
    }
   ],
   "source": [
    "# why is this different?\n",
    "# probably because it uses a different method with a less conservative approach: https://stats.stackexchange.com/a/544507/204430\n",
    "statsmodels.stats.proportion.proportions_ztest([low_single_word, five_single_word], [low_messages, five_messages])"
   ]
  },
  {
   "cell_type": "code",
   "execution_count": 78,
   "id": "ca13ca6a-1814-4844-b645-75985e6d4ec2",
   "metadata": {},
   "outputs": [
    {
     "data": {
      "text/plain": [
       "(4.995388775320354,\n",
       " 0.025414943494111872,\n",
       " (array([[ 95.,  31.],\n",
       "         [649., 343.]]),\n",
       "  array([[ 83.84973166,  42.15026834],\n",
       "         [660.15026834, 331.84973166]])))"
      ]
     },
     "execution_count": 78,
     "metadata": {},
     "output_type": "execute_result"
    }
   ],
   "source": [
    "# verify: z-test and chi2 are equivalent\n",
    "# https://rinterested.github.io/statistics/chi_square_same_as_z_test.html\n",
    "statsmodels.stats.proportion.proportions_chisquare([low_single_word, five_single_word], [low_messages, five_messages])"
   ]
  },
  {
   "cell_type": "code",
   "execution_count": 79,
   "id": "22e5e8e1-1599-4e64-8b59-5f18236cd5a8",
   "metadata": {},
   "outputs": [
    {
     "data": {
      "text/plain": [
       "(1.123473724135971, 0.26123635402809975)"
      ]
     },
     "execution_count": 79,
     "metadata": {},
     "output_type": "execute_result"
    }
   ],
   "source": [
    "statsmodels.stats.proportion.proportions_ztest([low_single_word, low_messages], [five_single_word, five_messages])"
   ]
  },
  {
   "cell_type": "code",
   "execution_count": 80,
   "id": "217d9d61-28d5-4a56-b87a-46de4ae7a1e2",
   "metadata": {},
   "outputs": [
    {
     "data": {
      "text/plain": [
       "(0.012796260970774256, 0.17315482608585153)"
      ]
     },
     "execution_count": 80,
     "metadata": {},
     "output_type": "execute_result"
    }
   ],
   "source": [
    "statsmodels.stats.proportion.confint_proportions_2indep(\n",
    "    low_single_word,\n",
    "    low_messages,\n",
    "    five_single_word,\n",
    "    five_messages,\n",
    "    method=None,\n",
    "    compare=\"diff\",\n",
    "    alpha=0.05,\n",
    "    correction=True,\n",
    ")"
   ]
  },
  {
   "cell_type": "code",
   "execution_count": 84,
   "id": "b1fa9b2a-fdbf-494e-8b17-83fac380801c",
   "metadata": {},
   "outputs": [
    {
     "data": {
      "image/png": "[encoded data removed]",
      "text/plain": [
       "<Figure size 334.927x80 with 2 Axes>"
      ]
     },
     "metadata": {},
     "output_type": "display_data"
    }
   ],
   "source": [
    "# message-level: distribution of max moderation scores\n",
    "fig, axes = plt.subplots(1, 2, figsize=(FIGURE_WIDTH_IN, 0.8))\n",
    "\n",
    "ssdf = sdf[sdf.direction == \"I\"]\n",
    "ax = axes[0]\n",
    "bins = np.arange(0.01, 1, 0.01)\n",
    "ns, bins, patches = ax.hist(ssdf.max_moderation_score, bins=bins, color=\"black\", log=True)\n",
    "\n",
    "ssdf = sdf[sdf.direction == \"O\"]\n",
    "ax = axes[1]\n",
    "bins = np.arange(0, 1, 0.01)\n",
    "ns, bins, patches = ax.hist(ssdf.max_moderation_score, bins=bins, color=\"black\", log=True)\n",
    "\n",
    "fig.tight_layout(pad=0)\n",
    "# fig.savefig(FIGURES_DIR / \"dec2023_conversation_length.pdf\", dpi=150, pad_inches=0)\n",
    "plt.show()"
   ]
  },
  {
   "cell_type": "code",
   "execution_count": null,
   "id": "2a1f8295-a372-45f9-a9e4-3f85ce0b5c91",
   "metadata": {},
   "outputs": [],
   "source": []
  },
  {
   "cell_type": "code",
   "execution_count": null,
   "id": "f3d89748-7ae0-432c-aa06-7f3b2f853343",
   "metadata": {},
   "outputs": [],
   "source": []
  },
  {
   "cell_type": "code",
   "execution_count": null,
   "id": "354b1035-fbcc-4a70-bf56-840bd07ebf12",
   "metadata": {},
   "outputs": [],
   "source": []
  },
  {
   "cell_type": "code",
   "execution_count": null,
   "id": "93ecf2df-3328-4cc4-b269-c4e37598ede8",
   "metadata": {},
   "outputs": [],
   "source": []
  },
  {
   "cell_type": "code",
   "execution_count": null,
   "id": "87f704c8-1270-4373-aaed-4d8cef553c3b",
   "metadata": {},
   "outputs": [],
   "source": []
  },
  {
   "cell_type": "markdown",
   "id": "edec7f8d-51db-43f7-a7e4-3b584fa1f75c",
   "metadata": {},
   "source": [
    "## Real usage data"
   ]
  },
  {
   "cell_type": "code",
   "execution_count": 86,
   "id": "e0739ac4-ee5a-4193-8c7f-38a99f5c35cd",
   "metadata": {},
   "outputs": [],
   "source": [
    "start_of_year = datetime.fromisoformat(\"2024-01-01\").replace(tzinfo=timezone.utc)\n",
    "end_of_real_usage = datetime.fromisoformat(\"2024-05-01\").replace(tzinfo=timezone.utc)"
   ]
  },
  {
   "cell_type": "code",
   "execution_count": 87,
   "id": "bb3eb1ef-9480-4fa2-bdc0-54ef1210269c",
   "metadata": {},
   "outputs": [
    {
     "data": {
      "text/plain": [
       "<Activity: Activity object (2)>"
      ]
     },
     "execution_count": 87,
     "metadata": {},
     "output_type": "execute_result"
    }
   ],
   "source": [
    "tc_activity = models.Activity.objects.filter(name=\"TopicalConversation\").first()\n",
    "tc_activity"
   ]
  },
  {
   "cell_type": "code",
   "execution_count": 88,
   "id": "fe22225f-f685-4263-9133-f2b6a082e621",
   "metadata": {},
   "outputs": [
    {
     "data": {
      "text/plain": [
       "<Activity: Activity object (3)>"
      ]
     },
     "execution_count": 88,
     "metadata": {},
     "output_type": "execute_result"
    }
   ],
   "source": [
    "pc_activity = models.Activity.objects.filter(name=\"PedagogicalChat\").first()\n",
    "pc_activity"
   ]
  },
  {
   "cell_type": "code",
   "execution_count": 89,
   "id": "f470c6ab-0faf-421a-9f7d-960cae9f43fc",
   "metadata": {},
   "outputs": [
    {
     "data": {
      "text/plain": [
       "0"
      ]
     },
     "execution_count": 89,
     "metadata": {},
     "output_type": "execute_result"
    }
   ],
   "source": [
    "activity_sessions = models.ActivitySession.objects.filter(activity=pc_activity, created_at__gt=start_of_year)\n",
    "len(activity_sessions)"
   ]
  },
  {
   "cell_type": "code",
   "execution_count": 90,
   "id": "9ce6465b-1c0f-48d6-9576-b88e37c398a5",
   "metadata": {},
   "outputs": [
    {
     "data": {
      "text/plain": [
       "8958"
      ]
     },
     "execution_count": 90,
     "metadata": {},
     "output_type": "execute_result"
    }
   ],
   "source": [
    "# to start: get line counts\n",
    "activity_sessions = models.ActivitySession.objects.filter(\n",
    "    activity=tc_activity, created_at__gt=start_of_year, created_at__lt=end_of_real_usage\n",
    ").select_related(\"user\")\n",
    "len(activity_sessions)"
   ]
  },
  {
   "cell_type": "code",
   "execution_count": 92,
   "id": "c84cfae0-7955-469a-b759-f245ecaf3023",
   "metadata": {},
   "outputs": [],
   "source": [
    "ds = []\n",
    "for session in activity_sessions:\n",
    "    d = dict(session.user.properties)\n",
    "    d[\"user_id\"] = session.user.id\n",
    "    ds.append(d)\n",
    "user_properties_df = pd.DataFrame(ds)"
   ]
  },
  {
   "cell_type": "code",
   "execution_count": null,
   "id": "085abd80-6c4d-40de-9133-a06fc08d9090",
   "metadata": {},
   "outputs": [],
   "source": [
    "user_properties_df"
   ]
  },
  {
   "cell_type": "code",
   "execution_count": 94,
   "id": "5e222128-d751-4dbe-9819-9905189ec66c",
   "metadata": {},
   "outputs": [
    {
     "data": {
      "text/plain": [
       "turn_line_name\n",
       "Rori            5598\n",
       "+12065906259    3157\n",
       "Rori Schools     137\n",
       "Rori Staging      49\n",
       "Rori Demo         17\n",
       "Name: count, dtype: int64"
      ]
     },
     "execution_count": 94,
     "metadata": {},
     "output_type": "execute_result"
    }
   ],
   "source": [
    "user_properties_df.turn_line_name.value_counts(dropna=False)"
   ]
  },
  {
   "cell_type": "code",
   "execution_count": null,
   "id": "4fa13013-a296-44cf-b302-96baaa52f8fe",
   "metadata": {},
   "outputs": [],
   "source": [
    "user_properties_df.turn_line_number.value_counts(dropna=False)"
   ]
  },
  {
   "cell_type": "code",
   "execution_count": null,
   "id": "cdb8cf8f-a4a6-438e-83a4-c676148ecbe0",
   "metadata": {},
   "outputs": [],
   "source": [
    "# based on this, valid analyses are only those on the rori lines\n",
    "user_properties_df[\"turn_line_info\"] = [\n",
    "    (turn_line_name, turn_line_number)\n",
    "    for turn_line_name, turn_line_number in zip(user_properties_df.turn_line_name, user_properties_df.turn_line_number)\n",
    "]\n",
    "user_properties_df.turn_line_info.value_counts(dropna=False)"
   ]
  },
  {
   "cell_type": "code",
   "execution_count": null,
   "id": "aee427a4-d684-4cb9-8082-01d0b86bcdb1",
   "metadata": {},
   "outputs": [],
   "source": [
    "user_properties_df.turn_author_id[user_properties_df.turn_author_id.str.startswith(\"1\")].value_counts()"
   ]
  },
  {
   "cell_type": "code",
   "execution_count": 128,
   "id": "c655a914-fdd1-403c-931d-908b6dd1d250",
   "metadata": {},
   "outputs": [
    {
     "name": "stdout",
     "output_type": "stream",
     "text": [
      "126278\n",
      "Query took 0:00:40.680344\n"
     ]
    }
   ],
   "source": [
    "s = datetime.now()\n",
    "messages = (\n",
    "    models.GenerativeChatMessageMetadata.objects.filter(\n",
    "        message__activity_session__activity__id=2,\n",
    "        message__activity_session__user__properties__turn_line_number=\"+12065906259\",\n",
    "        message__created_at__gt=start_of_year,\n",
    "        message__created_at__lt=end_of_real_usage,\n",
    "    )\n",
    "    .select_related(\"message\", \"message__activity_session\")\n",
    "    .all()\n",
    ")\n",
    "print(len(messages))\n",
    "print(f\"Query took {datetime.now() - s}\")"
   ]
  },
  {
   "cell_type": "code",
   "execution_count": 142,
   "id": "ed2327d2-7d6d-4edd-a126-d8d4d19e58f5",
   "metadata": {},
   "outputs": [
    {
     "data": {
      "text/plain": [
       "[(41664, 23), (16030, 21), (22214, 20), (36477, 20), (12715, 19)]"
      ]
     },
     "execution_count": 142,
     "metadata": {},
     "output_type": "execute_result"
    }
   ],
   "source": [
    "inbound_message_session_ids = [\n",
    "    message.message.activity_session.id\n",
    "    for message in messages\n",
    "    if message.message.direction == models.Message.MessageDirection.INBOUND\n",
    "]\n",
    "inwild_inbound_message_counts = Counter(inbound_message_session_ids)\n",
    "inwild_inbound_message_counts.most_common(5)"
   ]
  },
  {
   "cell_type": "code",
   "execution_count": 143,
   "id": "0d7dc41b-4217-4d23-8f7d-522a08c0c927",
   "metadata": {},
   "outputs": [
    {
     "name": "stdout",
     "output_type": "stream",
     "text": [
      "2591.0\n"
     ]
    },
    {
     "data": {
      "image/png": "[encoded data removed]",
      "text/plain": [
       "<Figure size 334.927x80 with 1 Axes>"
      ]
     },
     "metadata": {},
     "output_type": "display_data"
    }
   ],
   "source": [
    "# session-level: distribution of conversation lengths\n",
    "fig, ax = plt.subplots(1, 1, figsize=(FIGURE_WIDTH_IN, 0.8))\n",
    "\n",
    "max_length = 14\n",
    "counts = list(inwild_inbound_message_counts.values())\n",
    "counts = [min(count, 12) for count in counts]\n",
    "\n",
    "bins = np.arange(1, max_length)\n",
    "ns, bins, patches = ax.hist(counts, bins=bins, align=\"left\", color=\"black\")\n",
    "xs = np.arange(1, max_length - 1)\n",
    "ax.set_xticks(xs)\n",
    "ax.set_yticks([500, 1500, 2500])\n",
    "for x, n in zip(bins, ns):\n",
    "    if n > 1500:\n",
    "        print(n)\n",
    "    else:\n",
    "        ax.text(x, n + 100, f\"{n/1000:.1f}K\", ha=\"center\", size=6)\n",
    "\n",
    "fig.tight_layout(pad=0)\n",
    "fig.savefig(FIGURES_DIR / \"inwild_conversation_length.pdf\", dpi=150, pad_inches=0)\n",
    "plt.show()"
   ]
  },
  {
   "cell_type": "code",
   "execution_count": 144,
   "id": "5ee28c61-710f-4bc2-a545-0f1cb41ae3bf",
   "metadata": {},
   "outputs": [
    {
     "name": "stdout",
     "output_type": "stream",
     "text": [
      "138.0\n",
      "2591.0\n"
     ]
    },
    {
     "data": {
      "image/png": "[encoded data removed]",
      "text/plain": [
       "<Figure size 334.927x160 with 2 Axes>"
      ]
     },
     "metadata": {},
     "output_type": "display_data"
    }
   ],
   "source": [
    "# session-level: distribution of conversation lengths\n",
    "fig, axes = plt.subplots(2, 1, figsize=(FIGURE_WIDTH_IN, 1.6))\n",
    "\n",
    "max_value = 14\n",
    "label_height = 0.94\n",
    "\n",
    "ax = axes[0]\n",
    "bins = np.arange(1, max_value)\n",
    "ns, bins, patches = ax.hist(inbound_message_counts, bins=bins, align=\"left\", color=\"black\")\n",
    "xs = np.arange(1, max_value - 1)\n",
    "ax.set_xticks(xs, labels=[f\"{x}\" if x != max_value - 2 else f\"≥\" for x in xs])\n",
    "ax.set_yticks([50, 100, 150])\n",
    "for x, n in zip(bins, ns):\n",
    "    if n > 100:\n",
    "        print(n)\n",
    "    else:\n",
    "        ax.text(x, n + 9, f\"{n:.0f}\", ha=\"center\")\n",
    "ax.text(\n",
    "    0.02,\n",
    "    label_height,\n",
    "    f\"Usability Test ($n$={len(inbound_message_counts)})\",\n",
    "    horizontalalignment=\"left\",\n",
    "    verticalalignment=\"top\",\n",
    "    transform=ax.transAxes,\n",
    "    size=8,\n",
    ")\n",
    "dec2023_ns = ns\n",
    "\n",
    "\n",
    "ax = axes[1]\n",
    "counts = list(inwild_inbound_message_counts.values())\n",
    "counts = [min(count, max_value - 2) for count in counts]\n",
    "\n",
    "bins = np.arange(1, max_length)\n",
    "ns, bins, patches = ax.hist(counts, bins=bins, align=\"left\", color=\"black\")\n",
    "xs = np.arange(1, max_length - 1)\n",
    "ax.set_xticks(xs, labels=[f\"{x}\" if x != max_value - 2 else f\"≥\" for x in xs])\n",
    "ax.set_yticks([500, 1500, 2500])\n",
    "for x, n in zip(bins, ns):\n",
    "    if n > 1500:\n",
    "        print(n)\n",
    "    else:\n",
    "        ax.text(x, n + 100, f\"{n/1000:.1f}K\", ha=\"center\", size=6)\n",
    "ax.text(\n",
    "    0.02,\n",
    "    label_height,\n",
    "    f\"Field Deployment ($n$={len(counts):,})\",\n",
    "    horizontalalignment=\"left\",\n",
    "    verticalalignment=\"top\",\n",
    "    transform=ax.transAxes,\n",
    "    size=8,\n",
    ")\n",
    "inwild_ns = ns\n",
    "\n",
    "# ax.xaxis.majorTicks[-1].label1._fontproperties._size -= 2\n",
    "\n",
    "fig.tight_layout(pad=0, h_pad=0.2)\n",
    "fig.savefig(FIGURES_DIR / \"both_conversation_length.pdf\", dpi=150, pad_inches=0)\n",
    "plt.show()"
   ]
  },
  {
   "cell_type": "code",
   "execution_count": 145,
   "id": "ebb4e191-782c-44c5-90d8-90902c5fb553",
   "metadata": {},
   "outputs": [
    {
     "data": {
      "text/plain": [
       "(8755, 0.3016561964591662)"
      ]
     },
     "execution_count": 145,
     "metadata": {},
     "output_type": "execute_result"
    }
   ],
   "source": [
    "# higher conversational attrition in the wild\n",
    "len(counts), 2641 / len(counts)"
   ]
  },
  {
   "cell_type": "code",
   "execution_count": 146,
   "id": "d5f32d0c-6ccb-4ad0-b666-545d639477fe",
   "metadata": {},
   "outputs": [
    {
     "data": {
      "text/plain": [
       "(150.0, 0.5952380952380952)"
      ]
     },
     "execution_count": 146,
     "metadata": {},
     "output_type": "execute_result"
    }
   ],
   "source": [
    "finished_conversation_count = sum(dec2023_ns[7:])\n",
    "finished_conversation_count, finished_conversation_count / len(inbound_message_counts)"
   ]
  },
  {
   "cell_type": "code",
   "execution_count": 147,
   "id": "3e2723c3-7081-4568-9e3a-3a88426210d2",
   "metadata": {},
   "outputs": [
    {
     "data": {
      "text/plain": [
       "(3968.0, 0.4532267275842376)"
      ]
     },
     "execution_count": 147,
     "metadata": {},
     "output_type": "execute_result"
    }
   ],
   "source": [
    "finished_conversation_count = sum(inwild_ns[9:])\n",
    "finished_conversation_count, finished_conversation_count / len(inwild_inbound_message_counts)"
   ]
  },
  {
   "cell_type": "code",
   "execution_count": 148,
   "id": "363f81f3-2f70-4133-9d40-1431b583030c",
   "metadata": {},
   "outputs": [
    {
     "data": {
      "text/plain": [
       "2591.0"
      ]
     },
     "execution_count": 148,
     "metadata": {},
     "output_type": "execute_result"
    }
   ],
   "source": [
    "inwild_ns[9]"
   ]
  },
  {
   "cell_type": "code",
   "execution_count": 149,
   "id": "2805b937-58c7-4c9c-8046-7047bdfbe568",
   "metadata": {},
   "outputs": [
    {
     "data": {
      "text/plain": [
       "(datetime.datetime(2024, 2, 13, 12, 36, 48, 49082, tzinfo=datetime.timezone.utc),\n",
       " datetime.datetime(2024, 4, 30, 23, 59, 28, 381628, tzinfo=datetime.timezone.utc))"
      ]
     },
     "execution_count": 149,
     "metadata": {},
     "output_type": "execute_result"
    }
   ],
   "source": [
    "min([message.message.created_at for message in messages]), max([message.message.created_at for message in messages])"
   ]
  },
  {
   "cell_type": "code",
   "execution_count": null,
   "id": "507f23ff-dc47-4f94-96d7-af230b8a2408",
   "metadata": {},
   "outputs": [],
   "source": []
  },
  {
   "cell_type": "code",
   "execution_count": 150,
   "id": "2a78c311-d4b2-4267-b6f5-44554e3e6dc3",
   "metadata": {},
   "outputs": [
    {
     "data": {
      "text/plain": [
       "(126278, 15)"
      ]
     },
     "execution_count": 150,
     "metadata": {},
     "output_type": "execute_result"
    }
   ],
   "source": [
    "ds = []\n",
    "for message in messages:\n",
    "    d = {\n",
    "        \"id\": message.message.id,\n",
    "        \"direction\": message.message.direction,\n",
    "        \"activity_session\": message.message.activity_session.id,\n",
    "        \"user\": message.message.activity_session.user_id,\n",
    "    }\n",
    "    if \"moderation_data\" in message.context:\n",
    "        moderation_data = message.context[\"moderation_data\"]\n",
    "        openai_moderation_result = moderation_data[\"openai_moderation_result\"]\n",
    "        d.update(**openai_moderation_result[\"category_scores\"])\n",
    "    ds.append(d)\n",
    "wild_df = pd.DataFrame(ds)\n",
    "wild_df.shape"
   ]
  },
  {
   "cell_type": "code",
   "execution_count": 151,
   "id": "11ead586-53b6-4b06-add3-01431d87022a",
   "metadata": {},
   "outputs": [
    {
     "data": {
      "text/plain": [
       "'8,168 & 8,755 & 126,278'"
      ]
     },
     "execution_count": 151,
     "metadata": {},
     "output_type": "execute_result"
    }
   ],
   "source": [
    "# counts for messages, users, and sessions\n",
    "\n",
    "\n",
    "def latex_counts(*counts):\n",
    "    return \" & \".join([f\"{count:,}\" for count in counts])\n",
    "\n",
    "\n",
    "latex_counts(wild_df.user.nunique(), wild_df.activity_session.nunique(), wild_df.id.nunique())"
   ]
  },
  {
   "cell_type": "code",
   "execution_count": 152,
   "id": "e444126b-0d90-46b2-902d-e03d6600c037",
   "metadata": {},
   "outputs": [
    {
     "data": {
      "text/plain": [
       "'109 & 267 & 3,722'"
      ]
     },
     "execution_count": 152,
     "metadata": {},
     "output_type": "execute_result"
    }
   ],
   "source": [
    "latex_counts(sdf.user.nunique(), sdf.activity_session.nunique(), sdf.message.nunique())"
   ]
  },
  {
   "cell_type": "code",
   "execution_count": 153,
   "id": "8ce7b5aa-f815-4f75-bef5-c21d28def9fa",
   "metadata": {},
   "outputs": [
    {
     "data": {
      "text/plain": [
       "(108722, 15)"
      ]
     },
     "execution_count": 153,
     "metadata": {},
     "output_type": "execute_result"
    }
   ],
   "source": [
    "wild_df = wild_df.dropna(subset=\"hate\").reset_index(drop=True)\n",
    "wild_df.shape"
   ]
  },
  {
   "cell_type": "code",
   "execution_count": 154,
   "id": "5ce17d02-2aec-428a-b03f-b96c2ca15ba3",
   "metadata": {},
   "outputs": [],
   "source": [
    "wild_df[\"max_moderation_score\"] = wild_df[OPENAI_MODERATION_CATEGORIES].max(axis=1)"
   ]
  },
  {
   "cell_type": "code",
   "execution_count": 155,
   "id": "26b2fd64-3644-48e5-8e68-69c7c3fffa17",
   "metadata": {},
   "outputs": [
    {
     "data": {
      "text/plain": [
       "(3188, 54)"
      ]
     },
     "execution_count": 155,
     "metadata": {},
     "output_type": "execute_result"
    }
   ],
   "source": [
    "dec_df = sdf[sdf.max_moderation_score.notna()]\n",
    "dec_df.shape"
   ]
  },
  {
   "cell_type": "code",
   "execution_count": 156,
   "id": "0e68890b-4549-4a2d-9f37-ed17c3fdea7d",
   "metadata": {},
   "outputs": [
    {
     "data": {
      "text/plain": [
       "(0.0006972992268856615, 0.9888346791267395, 0.029710594564676285)"
      ]
     },
     "execution_count": 156,
     "metadata": {},
     "output_type": "execute_result"
    }
   ],
   "source": [
    "wild_maxes = wild_df[wild_df.direction == \"I\"].max_moderation_score\n",
    "wild_maxes.median(), wild_maxes.max(), wild_maxes.quantile(0.99)"
   ]
  },
  {
   "cell_type": "code",
   "execution_count": 157,
   "id": "d7532790-89e2-4841-bc55-db79325b11ee",
   "metadata": {},
   "outputs": [
    {
     "data": {
      "text/plain": [
       "(4.3327872845111415e-05, 0.045291077345609665, 0.00213855187874287)"
      ]
     },
     "execution_count": 157,
     "metadata": {},
     "output_type": "execute_result"
    }
   ],
   "source": [
    "dec_maxes = dec_df[dec_df.direction == \"I\"].max_moderation_score\n",
    "dec_maxes.median(), dec_maxes.max(), dec_maxes.quantile(0.99)"
   ]
  },
  {
   "cell_type": "code",
   "execution_count": 158,
   "id": "6c698272-4e80-4819-b8bf-cba6f0dab874",
   "metadata": {},
   "outputs": [
    {
     "name": "stdout",
     "output_type": "stream",
     "text": [
      "      Usability Test O 0.00000 0.00989 0.00044 0 / 1594\n",
      "    Field Deployment O 0.00016 0.04402 0.00265 0 / 54338\n",
      "      Usability Test I 0.00004 0.04529 0.00214 0 / 1594\n",
      "    Field Deployment I 0.00070 0.98883 0.02971 42 / 54384\n"
     ]
    }
   ],
   "source": [
    "for direction in [\"O\", \"I\"]:\n",
    "    for name, source_df in ([\"Usability Test\", dec_df], [\"Field Deployment\", wild_df]):\n",
    "        maxes = source_df[source_df.direction == direction].max_moderation_score\n",
    "        print(\n",
    "            f\"{name:>20} {direction} {maxes.median():.5f} {maxes.max():.5f} {maxes.quantile(0.99):.5f} {(maxes >= 0.5).sum()} / {len(maxes)}\"\n",
    "        )"
   ]
  },
  {
   "cell_type": "code",
   "execution_count": 161,
   "id": "9d12b62b-4b75-48f7-82ec-d3271683dfb7",
   "metadata": {},
   "outputs": [
    {
     "name": "stdout",
     "output_type": "stream",
     "text": [
      "Student & 0.002 & 0.045 & 0.030 & 0.989\n",
      "GPT-3.5 & 0.000 & 0.010 & 0.003 & 0.044\n"
     ]
    }
   ],
   "source": [
    "q = 0.99\n",
    "for direction_identifier, direction in zip([\"Student\", \"GPT-3.5\"], [\"I\", \"O\"]):\n",
    "    contents = [direction_identifier]\n",
    "    for name, source_df in ([\"Usability Test\", dec_df], [\"Field Deployment\", wild_df]):\n",
    "        maxes = source_df[source_df.direction == direction].max_moderation_score\n",
    "        contents.extend([f\"{maxes.quantile(q):.3f}\", f\"{maxes.max():.3f}\"])\n",
    "    print(\" & \".join(contents))"
   ]
  },
  {
   "cell_type": "code",
   "execution_count": 173,
   "id": "fe156ea2-95e0-4eac-a051-2ccd125b8f4c",
   "metadata": {},
   "outputs": [
    {
     "name": "stdout",
     "output_type": "stream",
     "text": [
      "54384\n",
      "Harassment & 0.011 & 0.989 & 141 & 36 \\\\\n",
      "Sexual & 0.012 & 0.914 & 28 & 5 \\\\\n",
      "Hate & 0.002 & 0.524 & 3 & 1 \\\\\n",
      "Violence & 0.001 & 0.959 & 2 & 1 \\\\\n",
      "Self-harm/intent & 0.001 & 0.743 & 1 & 1 \\\\\n",
      "Self-harm & 0.001 & 0.531 & 1 & 1 \\\\\n",
      "Harassment/threatening & 0.000 & 0.451 & 1 & 0 \\\\\n",
      "Hate/threatening & 0.000 & 0.087 & 0 & 0 \\\\\n",
      "Violence/graphic & 0.000 & 0.081 & 0 & 0 \\\\\n",
      "Self-harm/instructions & 0.000 & 0.072 & 0 & 0 \\\\\n",
      "Sexual/minors & 0.007 & 0.024 & 0 & 0 \\\\\n"
     ]
    }
   ],
   "source": [
    "q = 0.99\n",
    "swild_df = wild_df[wild_df.direction == \"I\"]\n",
    "print(len(swild_df))\n",
    "for column in sorted(\n",
    "    OPENAI_MODERATION_CATEGORIES,\n",
    "    key=lambda column: ((swild_df[column] >= 0.5).sum(), (swild_df[column] >= 0.1).sum(), swild_df[column].max()),\n",
    "    reverse=True,\n",
    "):\n",
    "    scores = swild_df[column]\n",
    "    contents = [column.capitalize()]\n",
    "    contents.extend(\n",
    "        [\n",
    "            f\"{scores.quantile(q):.3f}\",\n",
    "            f\"{scores.max():.3f}\",\n",
    "            f\"{(scores >= 0.1).sum()}\",\n",
    "            f\"{(scores >= 0.5).sum()}\",\n",
    "        ]\n",
    "    )\n",
    "    print(\" & \".join(contents) + \" \\\\\\\\\")"
   ]
  },
  {
   "cell_type": "code",
   "execution_count": null,
   "id": "1b7b07e2-fd21-47b7-82ff-8fb8981a6968",
   "metadata": {},
   "outputs": [],
   "source": []
  },
  {
   "cell_type": "code",
   "execution_count": 185,
   "id": "dd5c99be-72a2-4cdc-938a-ca33bb4b6609",
   "metadata": {},
   "outputs": [
    {
     "data": {
      "text/plain": [
       "('2024-01-19T13:39:32.327Z',\n",
       " '2023-12-15T10:24:45.354Z',\n",
       " '2023-12-13T13:24:06.382Z')"
      ]
     },
     "execution_count": 185,
     "metadata": {},
     "output_type": "execute_result"
    }
   ],
   "source": [
    "dec_df.created_at.max(), dec_df.created_at.sort_values(ascending=True).iloc[\n",
    "    int(len(dec_df) * 0.95)\n",
    "], dec_df.created_at.min()"
   ]
  },
  {
   "cell_type": "code",
   "execution_count": 187,
   "id": "4d084199-5ebd-4ee8-ab6c-b080881dc33f",
   "metadata": {},
   "outputs": [
    {
     "data": {
      "text/plain": [
       "16"
      ]
     },
     "execution_count": 187,
     "metadata": {},
     "output_type": "execute_result"
    }
   ],
   "source": [
    "(dec_df.created_at >= \"2023-12-16T00:00:00.000Z\").sum()"
   ]
  },
  {
   "cell_type": "code",
   "execution_count": null,
   "id": "5119b68f-c2dc-4c5d-945c-549885126161",
   "metadata": {},
   "outputs": [],
   "source": []
  },
  {
   "cell_type": "code",
   "execution_count": null,
   "id": "fd2644ef-6243-4a72-8781-fc49d0a8eb38",
   "metadata": {},
   "outputs": [],
   "source": [
    "dec_df[dec_df.direction == \"O\"].sort_values(\"max_moderation_score\", ascending=False).head(5)[\n",
    "    [\"text\", \"max_moderation_score\"] + OPENAI_MODERATION_CATEGORIES\n",
    "]"
   ]
  },
  {
   "cell_type": "code",
   "execution_count": 194,
   "id": "3c0a931c-f8eb-4713-917b-87ac79d08a67",
   "metadata": {},
   "outputs": [
    {
     "data": {
      "text/plain": [
       "'Oh, it seems like you might not understand the question. Let me rephrase it. Do you think that being smart is something that you can choose to be, rather than something that you are born with?'"
      ]
     },
     "execution_count": 194,
     "metadata": {},
     "output_type": "execute_result"
    }
   ],
   "source": [
    "dec_df[dec_df.direction == \"O\"].sort_values(\"max_moderation_score\", ascending=False).head(5)[\n",
    "    [\"text\", \"max_moderation_score\"] + OPENAI_MODERATION_CATEGORIES\n",
    "].iloc[0].text"
   ]
  },
  {
   "cell_type": "code",
   "execution_count": null,
   "id": "0e63b69c-40e6-4437-8a31-7ff2004f2f43",
   "metadata": {},
   "outputs": [],
   "source": [
    "dec_df[dec_df.direction == \"I\"].sort_values(\"max_moderation_score\", ascending=False).head(5)[\n",
    "    [\"text\", \"max_moderation_score\"] + OPENAI_MODERATION_CATEGORIES\n",
    "].iloc[0]"
   ]
  },
  {
   "cell_type": "code",
   "execution_count": 203,
   "id": "1de2d088-42c7-4f82-b285-4bcd3485bbef",
   "metadata": {},
   "outputs": [
    {
     "data": {
      "text/plain": [
       "('0.31%', '0.08%')"
      ]
     },
     "execution_count": 203,
     "metadata": {},
     "output_type": "execute_result"
    }
   ],
   "source": [
    "scores = wild_df[wild_df.direction == \"I\"].max_moderation_score\n",
    "f\"{(scores >= 0.1).sum() / len(scores):.2%}\", f\"{(scores >= 0.5).sum() / len(scores):.2%}\""
   ]
  },
  {
   "cell_type": "code",
   "execution_count": 209,
   "id": "5119c747-f072-4cb9-bc73-fee8ffe7a303",
   "metadata": {},
   "outputs": [
    {
     "data": {
      "text/plain": [
       "(0.0008, 0.0008)"
      ]
     },
     "execution_count": 209,
     "metadata": {},
     "output_type": "execute_result"
    }
   ],
   "source": [
    "2 / 2500, 8 / 10000"
   ]
  },
  {
   "cell_type": "markdown",
   "id": "7ee8870b-8e6c-4821-b3f2-5a65b04fd32e",
   "metadata": {},
   "source": [
    "### Investigating responses to flagged student messages"
   ]
  },
  {
   "cell_type": "code",
   "execution_count": 233,
   "id": "acf73254-8de3-4d8c-9997-436c0be65051",
   "metadata": {},
   "outputs": [
    {
     "data": {
      "text/plain": [
       "58"
      ]
     },
     "execution_count": 233,
     "metadata": {},
     "output_type": "execute_result"
    }
   ],
   "source": [
    "adf = wild_df[(wild_df.direction == \"I\") & (wild_df.max_moderation_score < 0.5) & (wild_df.max_moderation_score >= 0.1)]\n",
    "almost_flagged_session_ids = set(adf.activity_session)\n",
    "len(almost_flagged_session_ids)"
   ]
  },
  {
   "cell_type": "code",
   "execution_count": null,
   "id": "cbf45dda-7757-4231-93ea-a13d560e714e",
   "metadata": {},
   "outputs": [],
   "source": [
    "adf = wild_df[(wild_df.direction == \"I\") & (wild_df.max_moderation_score >= 0.5)]\n",
    "flagged_session_ids = set(adf.activity_session)\n",
    "adf.head(10)"
   ]
  },
  {
   "cell_type": "code",
   "execution_count": 235,
   "id": "22960224-130f-48c0-a6d3-4c57931511fa",
   "metadata": {},
   "outputs": [
    {
     "data": {
      "text/plain": [
       "26"
      ]
     },
     "execution_count": 235,
     "metadata": {},
     "output_type": "execute_result"
    }
   ],
   "source": [
    "len(flagged_session_ids)"
   ]
  },
  {
   "cell_type": "code",
   "execution_count": 237,
   "id": "4c130db9-88b1-4062-8a58-4a29f4afbb0e",
   "metadata": {},
   "outputs": [
    {
     "data": {
      "text/plain": [
       "49"
      ]
     },
     "execution_count": 237,
     "metadata": {},
     "output_type": "execute_result"
    }
   ],
   "source": [
    "almost_flagged_session_ids = almost_flagged_session_ids - flagged_session_ids\n",
    "len(almost_flagged_session_ids)"
   ]
  },
  {
   "cell_type": "code",
   "execution_count": 221,
   "id": "abce987e-056e-46c6-9958-a5ebedd9d6d0",
   "metadata": {},
   "outputs": [],
   "source": [
    "conversations = {activity_session: [] for activity_session in flagged_session_ids}\n",
    "for message in messages:\n",
    "    if message.message.activity_session_id in conversations:\n",
    "        conversations[message.message.activity_session_id].append(message)"
   ]
  },
  {
   "cell_type": "code",
   "execution_count": null,
   "id": "4e092fb4-3b81-44cf-a784-2f0d5df6cf52",
   "metadata": {},
   "outputs": [],
   "source": [
    "for i, session_id in enumerate(conversations.keys()):\n",
    "    print(f\"START OF CONVERSATION {i} / {len(conversations)}\")\n",
    "    for message in conversations[session_id]:\n",
    "        if \"moderation_data\" in message.context:\n",
    "            moderation_data = message.context[\"moderation_data\"]\n",
    "            openai_moderation_result = moderation_data[\"openai_moderation_result\"]\n",
    "            max_score = max(openai_moderation_result[\"category_scores\"].values())\n",
    "            if max_score >= 0.5:\n",
    "                print(f\"******* {max_score:.5f}\")\n",
    "        print(message.message.direction)\n",
    "        print(message.message.text)\n",
    "    print(\"END OF CONVERSATION\")\n",
    "    break"
   ]
  },
  {
   "cell_type": "code",
   "execution_count": 240,
   "id": "de897a6f-d957-487c-96a6-e6071f7b741a",
   "metadata": {},
   "outputs": [],
   "source": [
    "almost_flagged_conversations = {activity_session: [] for activity_session in almost_flagged_session_ids}\n",
    "for message in messages:\n",
    "    if message.message.activity_session_id in almost_flagged_conversations:\n",
    "        almost_flagged_conversations[message.message.activity_session_id].append(message)"
   ]
  },
  {
   "cell_type": "code",
   "execution_count": null,
   "id": "59a7d6c8-b828-4b25-a6e1-f984b0f33d99",
   "metadata": {},
   "outputs": [],
   "source": [
    "to_print = 0\n",
    "for i, session_id in enumerate(almost_flagged_conversations.keys()):\n",
    "    print(f\"START OF CONVERSATION {i+1} / {len(almost_flagged_conversations)}\")\n",
    "    for message in almost_flagged_conversations[session_id]:\n",
    "        if \"moderation_data\" in message.context:\n",
    "            moderation_data = message.context[\"moderation_data\"]\n",
    "            openai_moderation_result = moderation_data[\"openai_moderation_result\"]\n",
    "            max_score = max(openai_moderation_result[\"category_scores\"].values())\n",
    "            if max_score >= 0.1:\n",
    "                print(f\"******* {max_score:.5f}\")\n",
    "                to_print += 3\n",
    "        if to_print > 0:\n",
    "            print(message.message.direction)\n",
    "            print(message.message.text)\n",
    "            to_print -= 1\n",
    "    print(\"END OF CONVERSATION\")"
   ]
  },
  {
   "cell_type": "code",
   "execution_count": null,
   "id": "aa277456-8424-46cc-a0d6-f8c5f95533b4",
   "metadata": {},
   "outputs": [],
   "source": []
  }
 ],
 "metadata": {
  "kernelspec": {
   "display_name": "Python 3 (ipykernel)",
   "language": "python",
   "name": "python3"
  },
  "language_info": {
   "codemirror_mode": {
    "name": "ipython",
    "version": 3
   },
   "file_extension": ".py",
   "mimetype": "text/x-python",
   "name": "python",
   "nbconvert_exporter": "python",
   "pygments_lexer": "ipython3",
   "version": "3.10.11"
  }
 },
 "nbformat": 4,
 "nbformat_minor": 5
}
